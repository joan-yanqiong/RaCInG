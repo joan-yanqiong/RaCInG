{
 "cells": [
  {
   "cell_type": "code",
   "execution_count": 2,
   "metadata": {},
   "outputs": [],
   "source": [
    "import numpy as np\n",
    "import pandas as pd\n",
    "import os"
   ]
  },
  {
   "cell_type": "code",
   "execution_count": 6,
   "metadata": {},
   "outputs": [
    {
     "name": "stdout",
     "output_type": "stream",
     "text": [
      "set()\n"
     ]
    }
   ],
   "source": [
    "# Check missing patients\n",
    "file_dir =\"/Users/joankant/Desktop/gaitigroup/Users/Joan/RaCInG/output/GBM/kernel/normalized\"\n",
    "files = os.listdir(file_dir)\n",
    "patients = [int(file.split(\"__\")[1].split(\".\")[0]) for file in files if \"meta\" not in file]\n",
    "\n",
    "missing_patients = set(np.arange(0, 171)) - set(patients)\n",
    "print(missing_patients)\n"
   ]
  },
  {
   "cell_type": "code",
   "execution_count": 4,
   "metadata": {
    "vscode": {
     "languageId": "shellscript"
    }
   },
   "outputs": [],
   "source": [
    "# %%sh\n",
    "# base_dir=\"/cluster/projects/gaitigroup/Users\"\n",
    "# base_dir=\"/Users/joankant/Desktop/gaitigroup/Users\"\n",
    "# work_dir=\"${base_dir}/Joan/RaCInG\"\n",
    "\n",
    "# input_dir=\"${work_dir}/output/GBM/kernel/original\"\n",
    "# output_dir=\"${work_dir}/output/GBM/kernel/\"\n",
    "# communication_type=\"D\"\n",
    "# av=5\n",
    "# norm_dist=0\n",
    "# cancer_type=\"GBM\"\n",
    "\n",
    "# source \"/Users/joankant/miniforge-pypy3/bin/activate\" \"racing\"\n",
    "\n",
    "# python3 \"${work_dir}/Python/2_combine_samples.py\" \\\n",
    "#         --cancer_type $cancer_type \\\n",
    "#         --input_dir $input_dir \\\n",
    "#         --av $av \\\n",
    "#         --communication_type $communication_type \\\n",
    "#         --norm_dist $norm_dist \\\n",
    "#         --output_dir $output_dir"
   ]
  },
  {
   "cell_type": "code",
   "execution_count": 5,
   "metadata": {},
   "outputs": [
    {
     "data": {
      "text/html": [
       "<div>\n",
       "<style scoped>\n",
       "    .dataframe tbody tr th:only-of-type {\n",
       "        vertical-align: middle;\n",
       "    }\n",
       "\n",
       "    .dataframe tbody tr th {\n",
       "        vertical-align: top;\n",
       "    }\n",
       "\n",
       "    .dataframe thead th {\n",
       "        text-align: right;\n",
       "    }\n",
       "</style>\n",
       "<table border=\"1\" class=\"dataframe\">\n",
       "  <thead>\n",
       "    <tr style=\"text-align: right;\">\n",
       "      <th></th>\n",
       "      <th>min</th>\n",
       "      <th>GBM</th>\n",
       "      <th>171</th>\n",
       "    </tr>\n",
       "  </thead>\n",
       "  <tbody>\n",
       "    <tr>\n",
       "      <th>0</th>\n",
       "      <td>0</td>\n",
       "      <td>NaN</td>\n",
       "      <td>NaN</td>\n",
       "    </tr>\n",
       "    <tr>\n",
       "      <th>1</th>\n",
       "      <td>['B' 'CAF' 'CD8+ T' 'DC' 'Endo' 'M' 'NK' 'Treg...</td>\n",
       "      <td>NaN</td>\n",
       "      <td>NaN</td>\n",
       "    </tr>\n",
       "    <tr>\n",
       "      <th>2</th>\n",
       "      <td>0</td>\n",
       "      <td>0.0</td>\n",
       "      <td>0.006935</td>\n",
       "    </tr>\n",
       "    <tr>\n",
       "      <th>3</th>\n",
       "      <td>0</td>\n",
       "      <td>1.0</td>\n",
       "      <td>0.012272</td>\n",
       "    </tr>\n",
       "    <tr>\n",
       "      <th>4</th>\n",
       "      <td>0</td>\n",
       "      <td>2.0</td>\n",
       "      <td>0.000000</td>\n",
       "    </tr>\n",
       "    <tr>\n",
       "      <th>...</th>\n",
       "      <td>...</td>\n",
       "      <td>...</td>\n",
       "      <td>...</td>\n",
       "    </tr>\n",
       "    <tr>\n",
       "      <th>14188</th>\n",
       "      <td>8</td>\n",
       "      <td>4.0</td>\n",
       "      <td>0.029663</td>\n",
       "    </tr>\n",
       "    <tr>\n",
       "      <th>14189</th>\n",
       "      <td>8</td>\n",
       "      <td>5.0</td>\n",
       "      <td>0.016872</td>\n",
       "    </tr>\n",
       "    <tr>\n",
       "      <th>14190</th>\n",
       "      <td>8</td>\n",
       "      <td>6.0</td>\n",
       "      <td>0.002560</td>\n",
       "    </tr>\n",
       "    <tr>\n",
       "      <th>14191</th>\n",
       "      <td>8</td>\n",
       "      <td>7.0</td>\n",
       "      <td>0.003125</td>\n",
       "    </tr>\n",
       "    <tr>\n",
       "      <th>14192</th>\n",
       "      <td>8</td>\n",
       "      <td>8.0</td>\n",
       "      <td>0.033761</td>\n",
       "    </tr>\n",
       "  </tbody>\n",
       "</table>\n",
       "<p>14193 rows × 3 columns</p>\n",
       "</div>"
      ],
      "text/plain": [
       "                                                     min  GBM       171\n",
       "0                                                      0  NaN       NaN\n",
       "1      ['B' 'CAF' 'CD8+ T' 'DC' 'Endo' 'M' 'NK' 'Treg...  NaN       NaN\n",
       "2                                                      0  0.0  0.006935\n",
       "3                                                      0  1.0  0.012272\n",
       "4                                                      0  2.0  0.000000\n",
       "...                                                  ...  ...       ...\n",
       "14188                                                  8  4.0  0.029663\n",
       "14189                                                  8  5.0  0.016872\n",
       "14190                                                  8  6.0  0.002560\n",
       "14191                                                  8  7.0  0.003125\n",
       "14192                                                  8  8.0  0.033761\n",
       "\n",
       "[14193 rows x 3 columns]"
      ]
     },
     "execution_count": 5,
     "metadata": {},
     "output_type": "execute_result"
    }
   ],
   "source": [
    "pd.read_csv(\"/Users/joankant/Desktop/gaitigroup/Users/Joan/RaCInG/output/GBM/kernel/GBM_D.out\")\n"
   ]
  }
 ],
 "metadata": {
  "kernelspec": {
   "display_name": "racing",
   "language": "python",
   "name": "python3"
  },
  "language_info": {
   "codemirror_mode": {
    "name": "ipython",
    "version": 3
   },
   "file_extension": ".py",
   "mimetype": "text/x-python",
   "name": "python",
   "nbconvert_exporter": "python",
   "pygments_lexer": "ipython3",
   "version": "3.8.11"
  },
  "orig_nbformat": 4
 },
 "nbformat": 4,
 "nbformat_minor": 2
}
