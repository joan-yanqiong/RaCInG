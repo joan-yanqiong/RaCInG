{
 "cells": [
  {
   "cell_type": "code",
   "execution_count": 1,
   "metadata": {},
   "outputs": [],
   "source": [
    "import numpy as np\n",
    "import pandas as pd\n",
    "import os"
   ]
  },
  {
   "cell_type": "code",
   "execution_count": 2,
   "metadata": {},
   "outputs": [
    {
     "name": "stdout",
     "output_type": "stream",
     "text": [
      "set()\n"
     ]
    }
   ],
   "source": [
    "# Check missing patients\n",
    "file_dir =\"/Users/joankant/Desktop/gaitigroup/Users/Joan/RaCInG/output/GBM/networks_G150/original\"\n",
    "files = os.listdir(file_dir)\n",
    "patients = [int(file.split(\"__\")[1].split(\".\")[0]) for file in files if \"meta\" not in file]\n",
    "\n",
    "missing_patients = set(np.arange(0, 171)) - set(patients)\n",
    "print(missing_patients)\n"
   ]
  },
  {
   "cell_type": "code",
   "execution_count": 3,
   "metadata": {},
   "outputs": [
    {
     "name": "stdout",
     "output_type": "stream",
     "text": [
      "set()\n"
     ]
    }
   ],
   "source": [
    "# Check missing patients\n",
    "file_dir =\"/Users/joankant/Desktop/gaitigroup/Users/Joan/RaCInG/output/GBM/networks_G150/normalized\"\n",
    "files = os.listdir(file_dir)\n",
    "patients = [int(file.split(\"__\")[1].split(\".\")[0]) for file in files if \"meta\" not in file]\n",
    "\n",
    "missing_patients = set(np.arange(0, 171)) - set(patients)\n",
    "print(missing_patients)\n"
   ]
  },
  {
   "cell_type": "code",
   "execution_count": null,
   "metadata": {},
   "outputs": [],
   "source": []
  }
 ],
 "metadata": {
  "kernelspec": {
   "display_name": "racing",
   "language": "python",
   "name": "python3"
  },
  "language_info": {
   "codemirror_mode": {
    "name": "ipython",
    "version": 3
   },
   "file_extension": ".py",
   "mimetype": "text/x-python",
   "name": "python",
   "nbconvert_exporter": "python",
   "pygments_lexer": "ipython3",
   "version": "3.8.11"
  },
  "orig_nbformat": 4
 },
 "nbformat": 4,
 "nbformat_minor": 2
}
