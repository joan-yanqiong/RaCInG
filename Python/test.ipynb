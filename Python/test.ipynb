{
 "cells": [
  {
   "cell_type": "code",
   "execution_count": 19,
   "metadata": {},
   "outputs": [
    {
     "name": "stdout",
     "output_type": "stream",
     "text": [
      "467\n",
      "['1', '1000', '5']\n",
      "['1', '1000', '5']\n",
      "['2', '1000', '5']\n"
     ]
    },
    {
     "ename": "StopIteration",
     "evalue": "",
     "output_type": "error",
     "traceback": [
      "\u001b[0;31m---------------------------------------------------------------------------\u001b[0m",
      "\u001b[0;31mStopIteration\u001b[0m                             Traceback (most recent call last)",
      "Cell \u001b[0;32mIn[19], line 44\u001b[0m\n\u001b[1;32m     40\u001b[0m             i, j, k, a \u001b[39m=\u001b[39m \u001b[39mnext\u001b[39m(reader)\n\u001b[1;32m     41\u001b[0m             triangle_data_s[\u001b[39mint\u001b[39m(i), \u001b[39mint\u001b[39m(\n\u001b[1;32m     42\u001b[0m                 j), \u001b[39mint\u001b[39m(k), \u001b[39mint\u001b[39m(p)] \u001b[39m=\u001b[39m \u001b[39mfloat\u001b[39m(a)\n\u001b[0;32m---> 44\u001b[0m p \u001b[39m=\u001b[39m \u001b[39mnext\u001b[39;49m(reader)\n",
      "\u001b[0;31mStopIteration\u001b[0m: "
     ]
    }
   ],
   "source": [
    "import csv \n",
    "import numpy as np\n",
    "import pandas as pd\n",
    "\n",
    "filename = \"/Users/joankant/Library/CloudStorage/OneDrive-UHN/RaCInG/output/SKCM/networks/SKCM_W_5.out\"\n",
    "with open(filename) as f:\n",
    "    reader = csv.reader(f)\n",
    "    triangle_type = next(reader)  # \"NA\" if the line is missing\n",
    "    cancer_type, weight_type, NoPat, N, itNo, av = next(reader)\n",
    "    print(NoPat)\n",
    "\n",
    "    triangle_data_a = np.zeros((9, 9, 9, int(NoPat)))\n",
    "    triangle_data_s = np.zeros((9, 9, 9, int(NoPat)))\n",
    "    triangle_raw_count = np.zeros((int(NoPat), 2))\n",
    "\n",
    "    p = next(reader)\n",
    "    print(p)\n",
    "\n",
    "    while p:\n",
    "        print(p)\n",
    "        p = p[0]\n",
    "        next(reader)\n",
    "        _, a_raw, s_raw = next(reader)\n",
    "\n",
    "        triangle_raw_count[int(p), 0] = float(a_raw)\n",
    "        triangle_raw_count[int(p), 1] = float(s_raw)\n",
    "\n",
    "        next(reader)\n",
    "        for _ in range(9):\n",
    "            for _ in range(9):\n",
    "                for _ in range(9):\n",
    "                    i, j, k, a = next(reader)\n",
    "                    triangle_data_a[int(i), int(\n",
    "                        j), int(k), int(p)] = float(a)\n",
    "\n",
    "        next(reader)\n",
    "        for _ in range(9):\n",
    "            for _ in range(9):\n",
    "                for _ in range(9):\n",
    "                    i, j, k, a = next(reader)\n",
    "                    triangle_data_s[int(i), int(\n",
    "                        j), int(k), int(p)] = float(a)\n",
    "\n",
    "        p = next(reader)\n"
   ]
  },
  {
   "cell_type": "code",
   "execution_count": 33,
   "metadata": {},
   "outputs": [
    {
     "name": "stdout",
     "output_type": "stream",
     "text": [
      "467\n",
      "['0', '1000', '5']\n",
      "['0', '1000', '5']\n",
      "['1', '1000', '5']\n"
     ]
    }
   ],
   "source": [
    "import csv\n",
    "import numpy as np\n",
    "import pandas as pd\n",
    "\n",
    "filename = \"/Users/joankant/Downloads/RaCInG/Python_Code/SKCM_W_5.out\"\n",
    "with open(filename) as f:\n",
    "    reader = csv.reader(f)\n",
    "    triangle_type = next(reader)  # \"NA\" if the line is missing\n",
    "    cancer_type, weight_type, NoPat, N, itNo, av = next(reader)\n",
    "    print(NoPat)\n",
    "\n",
    "    triangle_data_a = np.zeros((9, 9, 9, int(NoPat)))\n",
    "    triangle_data_s = np.zeros((9, 9, 9, int(NoPat)))\n",
    "    triangle_raw_count = np.zeros((int(NoPat), 2))\n",
    "\n",
    "    p = next(reader)\n",
    "    print(p)\n",
    "\n",
    "    while p:\n",
    "        print(p)\n",
    "        p = p[0]\n",
    "        next(reader)\n",
    "        _, a_raw, s_raw = next(reader)\n",
    "\n",
    "        triangle_raw_count[int(p), 0] = float(a_raw)\n",
    "        triangle_raw_count[int(p), 1] = float(s_raw)\n",
    "\n",
    "        next(reader)\n",
    "        for _ in range(9):\n",
    "            for _ in range(9):\n",
    "                for _ in range(9):\n",
    "                    i, j, k, a = next(reader)\n",
    "                    triangle_data_a[int(i), int(\n",
    "                        j), int(k), int(p)] = float(a)\n",
    "\n",
    "        next(reader)\n",
    "        for _ in range(9):\n",
    "            for _ in range(9):\n",
    "                for _ in range(9):\n",
    "                    i, j, k, a = next(reader)\n",
    "                    triangle_data_s[int(i), int(\n",
    "                        j), int(k), int(p)] = float(a)\n",
    "\n",
    "        p = next(reader)\n"
   ]
  },
  {
   "cell_type": "code",
   "execution_count": 31,
   "metadata": {},
   "outputs": [
    {
     "name": "stdout",
     "output_type": "stream",
     "text": [
      "yes\n"
     ]
    }
   ],
   "source": [
    "import os\n",
    "output_dir = \"/Users/joankant/Library/CloudStorage/OneDrive-UHN/RaCInG/output/SKCM/networks\"\n",
    "files = os.listdir(output_dir)\n",
    "\n",
    "p = os.path.join(output_dir, files[0])\n",
    "# Add newlines\n",
    "f = open(p, \"r\")\n",
    "lines = f.readlines()\n",
    "last_two_lines = lines[-2:]\n",
    "if not last_two_lines == [\"\\n\", \"\\n\"]:\n",
    "    with open(os.path.join(p), 'a') as f:\n",
    "        out = f.readlines()\n",
    "        f.write('\\n')\n",
    "        f.write('\\n')\n"
   ]
  }
 ],
 "metadata": {
  "kernelspec": {
   "display_name": "base",
   "language": "python",
   "name": "python3"
  },
  "language_info": {
   "codemirror_mode": {
    "name": "ipython",
    "version": 3
   },
   "file_extension": ".py",
   "mimetype": "text/x-python",
   "name": "python",
   "nbconvert_exporter": "python",
   "pygments_lexer": "ipython3",
   "version": "3.10.8"
  },
  "orig_nbformat": 4
 },
 "nbformat": 4,
 "nbformat_minor": 2
}
