{
 "cells": [
  {
   "cell_type": "code",
   "execution_count": 40,
   "metadata": {},
   "outputs": [],
   "source": [
    "import numpy as np\n",
    "import csv\n",
    "from RaCInG_input_generation import generateInput as gi\n",
    "from RaCInG_input_generation import get_patient_names as pn\n",
    "import pandas as pd"
   ]
  },
  {
   "cell_type": "code",
   "execution_count": 84,
   "metadata": {},
   "outputs": [],
   "source": [
    "filename =\"/Users/joankant/Library/CloudStorage/OneDrive-UHN/Coding/RaCInG/output/SKCM/networks/SKCM_W_5.out\""
   ]
  },
  {
   "cell_type": "code",
   "execution_count": 85,
   "metadata": {},
   "outputs": [
    {
     "name": "stdout",
     "output_type": "stream",
     "text": [
      "['W']\n",
      "SKCM min 467 1000 10 5\n",
      "['0', '1000', '5']\n"
     ]
    }
   ],
   "source": [
    "with open(filename) as f:\n",
    "    reader = csv.reader(f)\n",
    "    triangle_type = next(reader)  # \"NA\" if the line is missing\n",
    "    cancer_type, weight_type, NoPat, N, itNo, av = next(reader)\n",
    "    print(triangle_type)\n",
    "    print(cancer_type, weight_type, NoPat, N, itNo, av)\n",
    "    triangle_data_a = np.zeros((9, 9, 9, int(NoPat)))\n",
    "    triangle_data_s = np.zeros((9, 9, 9, int(NoPat)))\n",
    "    triangle_raw_count = np.zeros((int(NoPat), 2))\n",
    "\n",
    "    p = next(reader)\n",
    "    print(p)\n",
    "    while p:\n",
    "        p = p[0]\n",
    "        next(reader)\n",
    "        _, a_raw, s_raw = next(reader)\n",
    "\n",
    "        triangle_raw_count[int(p), 0] = float(a_raw)\n",
    "        triangle_raw_count[int(p), 1] = float(s_raw)\n",
    "\n",
    "        next(reader)\n",
    "        for _ in range(9):\n",
    "            for _ in range(9):\n",
    "                for _ in range(9):\n",
    "                    i, j, k, a = next(reader)\n",
    "                    triangle_data_a[int(i), int(\n",
    "                        j), int(k), int(p)] = float(a)\n",
    "\n",
    "        next(reader)\n",
    "        for _ in range(9):\n",
    "            for _ in range(9):\n",
    "                for _ in range(9):\n",
    "                    i, j, k, a = next(reader)\n",
    "                    triangle_data_s[int(i), int(\n",
    "                        j), int(k), int(p)] = float(a)\n",
    "\n",
    "        p = next(reader)\n"
   ]
  },
  {
   "cell_type": "code",
   "execution_count": 61,
   "metadata": {},
   "outputs": [
    {
     "data": {
      "text/plain": [
       "['1', '1000', '5']"
      ]
     },
     "execution_count": 61,
     "metadata": {},
     "output_type": "execute_result"
    }
   ],
   "source": [
    "p"
   ]
  }
 ],
 "metadata": {
  "kernelspec": {
   "display_name": "base",
   "language": "python",
   "name": "python3"
  },
  "language_info": {
   "codemirror_mode": {
    "name": "ipython",
    "version": 3
   },
   "file_extension": ".py",
   "mimetype": "text/x-python",
   "name": "python",
   "nbconvert_exporter": "python",
   "pygments_lexer": "ipython3",
   "version": "3.8.11"
  },
  "orig_nbformat": 4
 },
 "nbformat": 4,
 "nbformat_minor": 2
}
