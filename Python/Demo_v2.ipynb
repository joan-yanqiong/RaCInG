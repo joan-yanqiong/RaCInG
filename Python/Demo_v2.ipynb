{
 "cells": [
  {
   "cell_type": "code",
   "execution_count": 7,
   "metadata": {},
   "outputs": [],
   "source": [
    "# Estimated running time: 1 second\n",
    "import os\n",
    "import network_generation as netGen\n",
    "import RaCInG_input_generation as readIn\n",
    "import numpy as np\n",
    "\n",
    "Lmatrix, Rmatrix, Cdistr, LRdistr, cellTypes, ligs, recs, _ = readIn.generateInput(\n",
    "    \"min\", \"BLCA\", folder_dir=\"/Users/joankant/Library/CloudStorage/OneDrive-UHN/RaCInG/output/BLCA\")\n"
   ]
  },
  {
   "cell_type": "code",
   "execution_count": 8,
   "metadata": {},
   "outputs": [
    {
     "name": "stdout",
     "output_type": "stream",
     "text": [
      "(9, 276)\n",
      "(9, 298)\n",
      "(427, 9)\n",
      "(276, 298, 427)\n",
      "(9,)\n",
      "(276,)\n",
      "(298,)\n"
     ]
    }
   ],
   "source": [
    "print(Lmatrix.shape)\n",
    "print(Rmatrix.shape)\n",
    "print(Cdistr.shape)\n",
    "print(LRdistr.shape)\n",
    "print(cellTypes.shape)\n",
    "print(ligs.shape)\n",
    "print(recs.shape)\n",
    "\n",
    "\n",
    "# Rmatrix, Cdistr[patient_id,:], LRdistr[:,:,patient_id]"
   ]
  },
  {
   "cell_type": "code",
   "execution_count": 9,
   "metadata": {},
   "outputs": [],
   "source": [
    "np.random.seed(1)\n",
    "# Note we use only data of patient 0 from the input data\n",
    "patient_id = 0\n",
    "\n",
    "N = 20\n",
    "# 40  LR interactions -> avdeg = 2? 40/2\n",
    "avdeg = 2 \n",
    "V, E, types = netGen.model1(N, avdeg, Lmatrix, Rmatrix, Cdistr[patient_id,:], LRdistr[:,:,patient_id], genRandom = False)"
   ]
  },
  {
   "cell_type": "code",
   "execution_count": 10,
   "metadata": {},
   "outputs": [
    {
     "name": "stdout",
     "output_type": "stream",
     "text": [
      "(20,)\n",
      "(35, 2)\n",
      "(35, 2)\n"
     ]
    }
   ],
   "source": [
    "print(V.shape)\n",
    "print(E.shape)\n",
    "print(types.shape)\n"
   ]
  },
  {
   "cell_type": "code",
   "execution_count": 11,
   "metadata": {},
   "outputs": [
    {
     "data": {
      "text/plain": [
       "array(['B', 'CAF', 'CD8+ T', 'DC', 'Endo', 'M', 'NK', 'Treg', 'Tumor'],\n",
       "      dtype='<U6')"
      ]
     },
     "execution_count": 11,
     "metadata": {},
     "output_type": "execute_result"
    }
   ],
   "source": [
    "cellTypes"
   ]
  },
  {
   "cell_type": "code",
   "execution_count": 12,
   "metadata": {},
   "outputs": [
    {
     "name": "stdout",
     "output_type": "stream",
     "text": [
      "The cell-types of each cell in the network we just generated are:\n",
      "['DC' 'Treg' 'B' 'CD8+ T' 'CAF' 'B' 'CD8+ T' 'CD8+ T' 'CD8+ T' 'Endo' 'DC'\n",
      " 'Treg' 'CD8+ T' 'Treg' 'B' 'Treg' 'DC' 'M' 'CAF' 'CD8+ T']\n",
      "The arc list of the network is:\n",
      "[[18 17]\n",
      " [11 17]\n",
      " [ 9  4]\n",
      " [18 17]\n",
      " [18 18]\n",
      " [13  7]\n",
      " [ 5 19]\n",
      " [11 12]\n",
      " [18 18]\n",
      " [ 6  0]\n",
      " [ 8 18]\n",
      " [ 0  6]\n",
      " [ 4  1]\n",
      " [18  9]\n",
      " [ 4  2]\n",
      " [ 1  0]\n",
      " [ 9  9]\n",
      " [ 9  4]\n",
      " [ 9 17]\n",
      " [ 4  9]\n",
      " [10 16]\n",
      " [ 4  9]\n",
      " [12 12]\n",
      " [15 17]\n",
      " [ 2  2]\n",
      " [17 17]\n",
      " [ 4  7]\n",
      " [15  0]\n",
      " [13  4]\n",
      " [17  4]\n",
      " [ 0 12]\n",
      " [10 18]\n",
      " [12  6]\n",
      " [ 0  3]\n",
      " [ 9  7]]\n",
      "The ligands of each connection:\n",
      "['VCAM1' 'CALR' 'BMP6' 'WNT5A' 'LUM' 'HLA-A' 'ICOSLG' 'CD58' 'WNT5A' 'APP'\n",
      " 'ADAM17' 'SPP1' 'GRN' 'MDK' 'VEGFA' 'ADAM10' 'COL27A1' 'COL27A1' 'CCL5'\n",
      " 'NFASC' 'BTLA' 'ADM2' 'MIF' 'OSM' 'ICAM1' 'ADAM10' 'MDK' 'ADAM15' 'TGFB1'\n",
      " 'APOE' 'HLA-B' 'FAM3C' 'HLA-C' 'SEMA3C' 'ADM']\n",
      "The recepors of each connection:\n",
      "['ITGA4' 'ITGA3' 'ACVR2A' 'FZD5' 'ITGB1' 'APLP2' 'CTLA4' 'CD2' 'FZD2'\n",
      " 'TNFRSF21' 'MET' 'ITGB1' 'TNFRSF1A' 'ITGA6' 'ITGB1' 'CD44' 'ITGA11'\n",
      " 'ITGA1' 'CCRL2' 'CNTNAP1' 'CD79A' 'RAMP2' 'CD44' 'IL6ST' 'IL2RG'\n",
      " 'TSPAN15' 'ITGB1' 'ITGA5' 'VASN' 'LRP1' 'KLRD1' 'LAMP1' 'CD3D' 'PLXND1'\n",
      " 'ADRB2']\n"
     ]
    }
   ],
   "source": [
    "print(\"The cell-types of each cell in the network we just generated are:\")\n",
    "print(cellTypes[V]) #Should be all tumor cells with the exception of cell 2 (B-cell) and cell 14 (endothelial cell).\n",
    "print(\"The arc list of the network is:\")\n",
    "print(E) #Should start with a connection from cell 8 (a tumor cell) to cell 15 (a tumor cell).\n",
    "print(\"The ligands of each connection:\")\n",
    "print(ligs[types[:,0]]) #The connection from cell 8 to 15 should have ligand L1CAM form cell 8.\n",
    "print(\"The recepors of each connection:\")\n",
    "print(recs[types[:,1]]) #The connection from cell 8 to 15 should have receptor ERBB2 from cell 15."
   ]
  },
  {
   "cell_type": "code",
   "execution_count": 15,
   "metadata": {},
   "outputs": [
    {
     "name": "stdout",
     "output_type": "stream",
     "text": [
      "The cells have exactly the same types as before:\n",
      "['DC' 'Treg' 'B' 'CD8+ T' 'CAF' 'B' 'CD8+ T' 'CD8+ T' 'CD8+ T' 'Endo' 'DC'\n",
      " 'Treg' 'CD8+ T' 'Treg' 'B' 'Treg' 'DC' 'M' 'CAF' 'CD8+ T']\n",
      "But the arcs have changed due to the new distribution:\n",
      "[[ 4 12]\n",
      " [10  8]\n",
      " [ 9  3]\n",
      " [ 4 17]\n",
      " [ 4 10]\n",
      " [ 0 18]\n",
      " [12  3]\n",
      " [18  0]\n",
      " [13  5]\n",
      " [18  7]\n",
      " [ 9  0]\n",
      " [17  0]\n",
      " [ 9  0]\n",
      " [18 18]\n",
      " [ 1  9]\n",
      " [ 4  4]\n",
      " [ 4  3]\n",
      " [ 7 10]\n",
      " [ 4 18]\n",
      " [ 8 12]\n",
      " [10 10]\n",
      " [ 3  9]\n",
      " [ 8 16]\n",
      " [13  8]\n",
      " [ 6 12]\n",
      " [11 13]\n",
      " [11 13]\n",
      " [17 10]\n",
      " [ 3 13]\n",
      " [ 6  3]\n",
      " [ 4 17]\n",
      " [ 9  0]]\n",
      "[[1.80110348e-03 1.53474587e-03 2.05366737e-03 ... 0.00000000e+00\n",
      "  0.00000000e+00 0.00000000e+00]\n",
      " [0.00000000e+00 1.53474587e-03 2.05366737e-03 ... 0.00000000e+00\n",
      "  0.00000000e+00 0.00000000e+00]\n",
      " [0.00000000e+00 0.00000000e+00 0.00000000e+00 ... 0.00000000e+00\n",
      "  0.00000000e+00 0.00000000e+00]\n",
      " ...\n",
      " [0.00000000e+00 0.00000000e+00 0.00000000e+00 ... 0.00000000e+00\n",
      "  0.00000000e+00 0.00000000e+00]\n",
      " [0.00000000e+00 0.00000000e+00 0.00000000e+00 ... 0.00000000e+00\n",
      "  0.00000000e+00 4.28750597e-05]\n",
      " [0.00000000e+00 0.00000000e+00 0.00000000e+00 ... 0.00000000e+00\n",
      "  0.00000000e+00 0.00000000e+00]]\n"
     ]
    }
   ],
   "source": [
    "# Generate networks with a uniform LR-distribution. \n",
    "np.random.seed(1) # The same seed to compare with the previous output\n",
    "\n",
    "# Making the LR-distribution uniform\n",
    "def convert_to_uniform(LRdistr): \n",
    "    LRdistrUniform = np.zeros_like(LRdistr)\n",
    "    normvec = 1 / np.count_nonzero(LRdistr, axis = (0,1)) \n",
    "    for i in range(LRdistr.shape[2]):\n",
    "        copy = LRdistr[:,:,i].copy()\n",
    "        copy[copy > 0] = normvec[i]\n",
    "        LRdistrUniform[:,:,i] = copy\n",
    "    return LRdistrUniform\n",
    "LRdistrUniform = convert_to_uniform(LRdistr)\n",
    "# Generating one graph instance with the uniform LR-dsitribution (20 nodes, and ~40 arcs)\n",
    "Vnorm, Enorm, typesNorm = netGen.model1(N, avdeg, Lmatrix, Rmatrix, Cdistr[0,:], LRdistrUniform[:,:,0], genRandom = False)\n",
    "\n",
    "print(\"The cells have exactly the same types as before:\")\n",
    "print(cellTypes[Vnorm]) # Same output as the previous code block\n",
    "print(\"But the arcs have changed due to the new distribution:\")\n",
    "print(Enorm) # Starts with [8, 2]\n",
    "print(LRdistr[:,:,0])"
   ]
  },
  {
   "cell_type": "code",
   "execution_count": 19,
   "metadata": {},
   "outputs": [],
   "source": [
    "Vnorm.shape, Enorm.shape, typesNorm.shape\n",
    "np.savetxt(\"Vnorm.csv\", Vnorm, delimiter=\",\")\n",
    "np.savetxt(\"Enorm.csv\", Enorm, delimiter=\",\")\n",
    "np.savetxt(\"typesNorm.csv\", typesNorm, delimiter=\",\")"
   ]
  },
  {
   "cell_type": "code",
   "execution_count": 29,
   "metadata": {},
   "outputs": [
    {
     "data": {
      "text/plain": [
       "array([[ 4, 12],\n",
       "       [10,  8],\n",
       "       [ 9,  3],\n",
       "       [ 4, 17],\n",
       "       [ 4, 10],\n",
       "       [ 0, 18],\n",
       "       [12,  3],\n",
       "       [18,  0],\n",
       "       [13,  5],\n",
       "       [18,  7],\n",
       "       [ 9,  0],\n",
       "       [17,  0],\n",
       "       [ 9,  0],\n",
       "       [18, 18],\n",
       "       [ 1,  9],\n",
       "       [ 4,  4],\n",
       "       [ 4,  3],\n",
       "       [ 7, 10],\n",
       "       [ 4, 18],\n",
       "       [ 8, 12],\n",
       "       [10, 10],\n",
       "       [ 3,  9],\n",
       "       [ 8, 16],\n",
       "       [13,  8],\n",
       "       [ 6, 12],\n",
       "       [11, 13],\n",
       "       [11, 13],\n",
       "       [17, 10],\n",
       "       [ 3, 13],\n",
       "       [ 6,  3],\n",
       "       [ 4, 17],\n",
       "       [ 9,  0]])"
      ]
     },
     "execution_count": 29,
     "metadata": {},
     "output_type": "execute_result"
    }
   ],
   "source": [
    "Enorm"
   ]
  },
  {
   "cell_type": "code",
   "execution_count": 32,
   "metadata": {},
   "outputs": [
    {
     "name": "stdout",
     "output_type": "stream",
     "text": [
      "The adjacency matrix with self loops is:\n",
      "  (0, 18)\t1.0\n",
      "  (1, 9)\t1.0\n",
      "  (3, 9)\t1.0\n",
      "  (3, 13)\t1.0\n",
      "  (4, 3)\t1.0\n",
      "  (4, 4)\t1.0\n",
      "  (4, 10)\t1.0\n",
      "  (4, 12)\t1.0\n",
      "  (4, 17)\t2.0\n",
      "  (4, 18)\t1.0\n",
      "  (6, 3)\t1.0\n",
      "  (6, 12)\t1.0\n",
      "  (7, 10)\t1.0\n",
      "  (8, 12)\t1.0\n",
      "  (8, 16)\t1.0\n",
      "  (9, 0)\t3.0\n",
      "  (9, 3)\t1.0\n",
      "  (10, 8)\t1.0\n",
      "  (10, 10)\t1.0\n",
      "  (11, 13)\t2.0\n",
      "  (12, 3)\t1.0\n",
      "  (13, 5)\t1.0\n",
      "  (13, 8)\t1.0\n",
      "  (17, 0)\t1.0\n",
      "  (17, 10)\t1.0\n",
      "  (18, 0)\t1.0\n",
      "  (18, 7)\t1.0\n",
      "  (18, 18)\t1.0\n",
      "The adjacency matrix without self loops is:\n",
      "  (0, 18)\t1.0\n",
      "  (1, 9)\t1.0\n",
      "  (3, 9)\t1.0\n",
      "  (3, 13)\t1.0\n",
      "  (4, 3)\t1.0\n",
      "  (4, 10)\t1.0\n",
      "  (4, 12)\t1.0\n",
      "  (4, 17)\t2.0\n",
      "  (4, 18)\t1.0\n",
      "  (6, 3)\t1.0\n",
      "  (6, 12)\t1.0\n",
      "  (7, 10)\t1.0\n",
      "  (8, 12)\t1.0\n",
      "  (8, 16)\t1.0\n",
      "  (9, 0)\t3.0\n",
      "  (9, 3)\t1.0\n",
      "  (10, 8)\t1.0\n",
      "  (11, 13)\t2.0\n",
      "  (12, 3)\t1.0\n",
      "  (13, 5)\t1.0\n",
      "  (13, 8)\t1.0\n",
      "  (17, 0)\t1.0\n",
      "  (17, 10)\t1.0\n",
      "  (18, 0)\t1.0\n",
      "  (18, 7)\t1.0\n"
     ]
    }
   ],
   "source": [
    "import Utilities as util\n",
    "import pandas as pd\n",
    "os.listdir(\n",
    "    \"/Users/joankant/Library/CloudStorage/OneDrive-UHN/RaCInG/output/40_cci_network_construction\")\n",
    "\n",
    "input_dir = \"/Users/joankant/Library/CloudStorage/OneDrive-UHN/RaCInG/output/40_cci_network_construction/BLCA/20_2_norm\"\n",
    "V = pd.read_csv(f\"{input_dir}/vertices.csv\", header=None).values.flatten()\n",
    "E = pd.read_csv(f\"{input_dir}/edges.csv\", header=None).values\n",
    "types = pd.read_csv(f\"{input_dir}/lr_info_edges.csv\", header=None).values\n",
    "\n",
    "# This function retains arcs from cells to itself\n",
    "Adj = util.EdgetoAdj(E, len(V))\n",
    "# This function removes arcs from cells to itself\n",
    "AdjNoLoop = util.EdgetoAdj_No_loop(E, len(V))\n",
    "print(\"The adjacency matrix with self loops is:\")\n",
    "# You see that \"(2, 2) 2\" appears in the third row. There are two self-loops from cell 2 to itself.\n",
    "print(Adj)\n",
    "print(\"The adjacency matrix without self loops is:\")\n",
    "print(AdjNoLoop)  # This is the same matrix as before, but with \"(2, 2) 2\" removed.\n"
   ]
  },
  {
   "cell_type": "code",
   "execution_count": 33,
   "metadata": {},
   "outputs": [
    {
     "name": "stdout",
     "output_type": "stream",
     "text": [
      "Number of trust triangles: 3. List of trust triangles:\n",
      "[[ 3  4 12]\n",
      " [10  4 17]\n",
      " [ 3  6 12]]\n",
      "Number of cycle triangles: 0. List of cycle triangles:\n",
      "[]\n",
      "Number of wedges: 32. List of wedges:\n",
      "[[ 0 18  7]\n",
      " [ 1  9  0]\n",
      " [ 1  9  3]\n",
      " [ 3  9  0]\n",
      " [ 3 13  5]\n",
      " [ 3 13  8]\n",
      " [ 4  3  9]\n",
      " [ 4  3 13]\n",
      " [ 4 10  8]\n",
      " [ 4 12  3]\n",
      " [ 4 17  0]\n",
      " [ 4 17 10]\n",
      " [ 4 18  0]\n",
      " [ 4 18  7]\n",
      " [ 6  3  9]\n",
      " [ 6  3 13]\n",
      " [ 6 12  3]\n",
      " [ 7 10  8]\n",
      " [ 8 12  3]\n",
      " [ 9  0 18]\n",
      " [ 9  3 13]\n",
      " [10  8 12]\n",
      " [10  8 16]\n",
      " [11 13  5]\n",
      " [11 13  8]\n",
      " [12  3  9]\n",
      " [12  3 13]\n",
      " [13  8 12]\n",
      " [13  8 16]\n",
      " [17  0 18]\n",
      " [17 10  8]\n",
      " [18  7 10]]\n"
     ]
    }
   ],
   "source": [
    "import feature_extraction as feats\n",
    "NoTT, listTT = feats.Trust_Triangles(AdjNoLoop)\n",
    "NoCT, listCT = feats.Cycle_Triangles(AdjNoLoop)\n",
    "NoW, listW = feats.Wedges(AdjNoLoop)\n",
    "\n",
    "print(\"Number of trust triangles: \" + str(NoTT) + \". List of trust triangles:\") #There should be 4\n",
    "print(listTT) #Should start with [2, 12, 14]\n",
    "print(\"Number of cycle triangles: \" + str(NoCT) + \". List of cycle triangles:\") #There should be 0\n",
    "print(listCT) #Should only have the triangles []\n",
    "print(\"Number of wedges: \" + str(NoW) + \". List of wedges:\") #There should be 27\n",
    "print(listW) #Should start with [2, 9, 11]"
   ]
  }
 ],
 "metadata": {
  "kernelspec": {
   "display_name": "base",
   "language": "python",
   "name": "python3"
  },
  "language_info": {
   "codemirror_mode": {
    "name": "ipython",
    "version": 3
   },
   "file_extension": ".py",
   "mimetype": "text/x-python",
   "name": "python",
   "nbconvert_exporter": "python",
   "pygments_lexer": "ipython3",
   "version": "3.10.8"
  },
  "orig_nbformat": 4
 },
 "nbformat": 4,
 "nbformat_minor": 2
}
